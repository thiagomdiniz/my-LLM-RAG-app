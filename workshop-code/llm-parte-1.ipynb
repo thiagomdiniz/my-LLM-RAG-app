{
 "cells": [
  {
   "cell_type": "code",
   "execution_count": 1,
   "id": "3913a34c-e200-40f1-aa8e-645fff8f8527",
   "metadata": {},
   "outputs": [],
   "source": [
    "import os\n",
    "from dotenv import load_dotenv"
   ]
  },
  {
   "cell_type": "code",
   "execution_count": 2,
   "id": "7b64d387-42a3-4d2d-af79-46aca4612354",
   "metadata": {},
   "outputs": [
    {
     "data": {
      "text/plain": [
       "'gcp-starter'"
      ]
     },
     "execution_count": 2,
     "metadata": {},
     "output_type": "execute_result"
    }
   ],
   "source": [
    "load_dotenv('./.env')\n",
    "os.environ.get('PINECONE_ENV')"
   ]
  },
  {
   "cell_type": "markdown",
   "id": "31cb5ac8-951c-4658-b293-f7cbc6e940c3",
   "metadata": {},
   "source": [
    "## LangChain primeiros passos"
   ]
  },
  {
   "cell_type": "code",
   "execution_count": 11,
   "id": "190285dd-14ba-4235-b395-ce7e15c0ab69",
   "metadata": {},
   "outputs": [
    {
     "name": "stdout",
     "output_type": "stream",
     "text": [
      "\u001b[1mOpenAI\u001b[0m\n",
      "Params: {'model_name': 'gpt-3.5-turbo-instruct', 'temperature': 0.7, 'top_p': 1, 'frequency_penalty': 0, 'presence_penalty': 0, 'n': 1, 'logit_bias': {}, 'max_tokens': 512}\n"
     ]
    }
   ],
   "source": [
    "from langchain.llms import OpenAI\n",
    "llm = OpenAI(model_name='gpt-3.5-turbo-instruct', temperature=0.7, max_tokens=512)\n",
    "print(llm)"
   ]
  },
  {
   "cell_type": "code",
   "execution_count": 12,
   "id": "a22e55ad-f527-4e8c-9679-35a4252d9fa0",
   "metadata": {},
   "outputs": [],
   "source": [
    "output = llm('o que significa good clinical practices?')"
   ]
  },
  {
   "cell_type": "code",
   "execution_count": 13,
   "id": "fd53909a-f13e-4ea3-b126-5dec9581eb06",
   "metadata": {},
   "outputs": [
    {
     "name": "stdout",
     "output_type": "stream",
     "text": [
      "\n",
      "\n",
      "Good Clinical Practices (GCP) o Buenas Prácticas Clínicas es un conjunto de estándares éticos y de calidad que deben ser seguidos en la investigación clínica en seres humanos. Estas prácticas buscan garantizar la protección de los derechos, seguridad y bienestar de los participantes en estudios clínicos, así como la integridad y calidad de los datos obtenidos. Las GCP también establecen pautas para el diseño, conducción, registro y reporte de los estudios clínicos. Son un requisito obligatorio en la mayoría de los países y son reguladas por organismos internacionales como la Organización Mundial de la Salud (OMS) y la International Conference on Harmonisation (ICH). \n"
     ]
    }
   ],
   "source": [
    "print(output)"
   ]
  },
  {
   "cell_type": "code",
   "execution_count": 4,
   "id": "1658c4f8-aa84-42cc-aaf1-2383396b4ef5",
   "metadata": {},
   "outputs": [
    {
     "name": "stdout",
     "output_type": "stream",
     "text": [
      "7\n"
     ]
    }
   ],
   "source": [
    "print(llm.get_num_tokens('o que significa good clinical practices'))"
   ]
  },
  {
   "cell_type": "code",
   "execution_count": 5,
   "id": "63c97320-8eb8-4d52-8be0-bfb0d18ee9b8",
   "metadata": {},
   "outputs": [],
   "source": [
    "output = llm.generate(['... é a capital do Brasil', 'qual é a fórmula da área de um triangulo?'])"
   ]
  },
  {
   "cell_type": "code",
   "execution_count": 6,
   "id": "6ea63204-4791-4f62-9ed0-30334dbec0fb",
   "metadata": {},
   "outputs": [
    {
     "name": "stdout",
     "output_type": "stream",
     "text": [
      "[[Generation(text='\\n\\nBrasília.', generation_info={'finish_reason': 'stop', 'logprobs': None})], [Generation(text='\\n\\nA área de um triângulo é dada pela fórmula A = (b.h)/2 , onde b = base e h = altura.', generation_info={'finish_reason': 'stop', 'logprobs': None})]]\n"
     ]
    }
   ],
   "source": [
    "print(output.generations)"
   ]
  },
  {
   "cell_type": "code",
   "execution_count": 7,
   "id": "0e9479a0-3174-4bc0-addb-d150a7a8ec78",
   "metadata": {},
   "outputs": [
    {
     "data": {
      "text/plain": [
       "'\\n\\nBrasília.'"
      ]
     },
     "execution_count": 7,
     "metadata": {},
     "output_type": "execute_result"
    }
   ],
   "source": [
    "output.generations[0][0].text"
   ]
  },
  {
   "cell_type": "code",
   "execution_count": 14,
   "id": "b500055d-d192-418d-a77e-5cba6c52de45",
   "metadata": {},
   "outputs": [],
   "source": [
    "output = llm.generate(['escreva um slogan original para uma padaria especializada em cucas'] * 3)"
   ]
  },
  {
   "cell_type": "code",
   "execution_count": 15,
   "id": "db3336ee-4980-4713-9f1b-94a314f424eb",
   "metadata": {},
   "outputs": [
    {
     "name": "stdout",
     "output_type": "stream",
     "text": [
      "\n",
      "\n",
      "\"O sabor caseiro que vai conquistar seu paladar, só na nossa padaria de cucas artesanais.\"\n",
      "\n",
      "\"O sabor da tradição em cada fatia: venha provar as cucas da nossa padaria!\"\n",
      "\"Venha provar a cuca mais gostosa da cidade na nossa padaria!\""
     ]
    }
   ],
   "source": [
    "for o in output.generations:\n",
    "    print(o[0].text, end='')"
   ]
  },
  {
   "cell_type": "markdown",
   "id": "1d11273f-7cc8-4903-9cf5-9e8c45834767",
   "metadata": {},
   "source": [
    "## ChatModels: GPT-3.5-Turbo e GPT-4"
   ]
  },
  {
   "cell_type": "code",
   "execution_count": 17,
   "id": "1ca5493e-9b27-42bb-b9b1-89a5a2605490",
   "metadata": {},
   "outputs": [],
   "source": [
    "from langchain.schema import(\n",
    "    AIMessage,    #A ChatMessage coming from an AI/assistant\n",
    "    HumanMessage, #A ChatMessage coming from a human/user\n",
    "    SystemMessage #A ChatMessage coming from the system\n",
    ")\n",
    "from langchain.chat_models import ChatOpenAI"
   ]
  },
  {
   "cell_type": "code",
   "execution_count": 18,
   "id": "70bbb315-261b-43b0-b37f-1304c2e5bfce",
   "metadata": {},
   "outputs": [],
   "source": [
    "chat = ChatOpenAI(model='gpt-3.5-turbo', temperature=0.5, max_tokens=1024)\n",
    "messages = [\n",
    "    SystemMessage(content='Você é um especialista em bolos que responde tudo em português.'),\n",
    "    HumanMessage(content='explique por que utilizamos ovo para fazer a massa.')\n",
    "]\n",
    "output = chat(messages)"
   ]
  },
  {
   "cell_type": "code",
   "execution_count": 19,
   "id": "e2ac37ab-3348-4a45-a39a-cf90578a3678",
   "metadata": {},
   "outputs": [
    {
     "name": "stdout",
     "output_type": "stream",
     "text": [
      "O ovo é um ingrediente essencial na maioria das receitas de massa de bolo. Ele desempenha várias funções importantes na preparação da massa:\n",
      "\n",
      "1. Estrutura: As proteínas presentes no ovo, especialmente a clara, ajudam a fornecer estrutura para a massa do bolo. Quando as proteínas são batidas, elas se desdobram e formam uma rede que ajuda a reter o ar incorporado durante o processo de mistura. Isso resulta em uma massa mais leve e fofa.\n",
      "\n",
      "2. Emulsificação: A gema do ovo contém lecitina, que é um emulsionante natural. A lecitina ajuda a combinar ingredientes que normalmente não se misturam facilmente, como água e óleo. Isso ajuda a criar uma massa homogênea e uniforme.\n",
      "\n",
      "3. Umidade: O ovo contém uma quantidade significativa de água, que é liberada durante o cozimento. Isso ajuda a manter a massa úmida e macia, evitando que o bolo fique seco.\n",
      "\n",
      "4. Sabor: O ovo também contribui para o sabor da massa. Ele adiciona um sabor suave e rico, além de ajudar a realçar os sabores dos outros ingredientes.\n",
      "\n",
      "No entanto, é importante lembrar que algumas pessoas têm alergia ao ovo ou seguem uma dieta vegana. Nesses casos, existem substitutos de ovo disponíveis, como purê de maçã, iogurte, leite vegetal ou produtos específicos para substituição de ovo. Esses substitutos podem não fornecer exatamente as mesmas propriedades do ovo, mas podem ser usados para obter resultados satisfatórios em muitas receitas de bolo.\n"
     ]
    }
   ],
   "source": [
    "print(output.content)"
   ]
  },
  {
   "cell_type": "markdown",
   "id": "f7dca7cd-92f9-46aa-9fd7-f5fc26af9a19",
   "metadata": {},
   "source": [
    "## Prompt Templates"
   ]
  },
  {
   "cell_type": "code",
   "execution_count": 22,
   "id": "a2a0f92b-0d69-4f32-a64b-0870fe79c833",
   "metadata": {},
   "outputs": [],
   "source": [
    "from langchain.prompts import PromptTemplate"
   ]
  },
  {
   "cell_type": "code",
   "execution_count": 25,
   "id": "d8a44b53-021c-4557-9cde-56147e75689b",
   "metadata": {},
   "outputs": [
    {
     "name": "stdout",
     "output_type": "stream",
     "text": [
      "input_variables=['idioma', 'virus'] template='Você é um virologista experiente.\\nEscreva algumas frases em {idioma} sobre o vírus {virus} .'\n"
     ]
    }
   ],
   "source": [
    "template = \"\"\"Você é um virologista experiente.\n",
    "Escreva algumas frases em {idioma} sobre o vírus {virus} .\"\"\"\n",
    "\n",
    "prompt = PromptTemplate(\n",
    "    input_variables=['virus', 'idioma'],\n",
    "    template=template\n",
    ")\n",
    "print(prompt)"
   ]
  },
  {
   "cell_type": "code",
   "execution_count": 27,
   "id": "6bd587e9-952b-4cd5-a086-83d279b20b75",
   "metadata": {},
   "outputs": [
    {
     "name": "stdout",
     "output_type": "stream",
     "text": [
      "\n",
      "\n",
      "1. Le virus du SIDA est un rétrovirus qui attaque le système immunitaire humain.\n",
      "2. Le VIH se transmet principalement par contact sanguin, sexuel ou de la mère à l'enfant pendant la grossesse.\n",
      "3. Il n'existe pas encore de vaccin contre le VIH, mais des traitements antirétroviraux peuvent aider à contrôler la progression de la maladie.\n",
      "4. Il est important de se faire dépister régulièrement pour le VIH, car un traitement précoce peut améliorer les chances de survie.\n",
      "5. Le virus du SIDA est présent dans le monde entier, mais certaines populations sont plus touchées que d'autres, comme les personnes vivant avec le VIH, les travailleurs du sexe et les utilisateurs de drogues injectables.\n",
      "6. Les recherches se poursuivent pour trouver un remède définitif contre le VIH, mais en attendant, la prévention reste la meilleure arme contre la propagation du virus.\n",
      "7. Les personnes séropositives peuvent mener une vie saine et productive avec un traitement approprié et un soutien médical et social\n"
     ]
    }
   ],
   "source": [
    "from langchain.llms import OpenAI\n",
    "llm = OpenAI(model='gpt-3.5-turbo-instruct', temperature=0.7)\n",
    "output = llm(prompt.format(virus='HIV', idioma='Francês'))\n",
    "print(output)"
   ]
  },
  {
   "cell_type": "markdown",
   "id": "79c7c381-0229-465d-9881-c89c1153cb80",
   "metadata": {},
   "source": [
    "## Simple Chains"
   ]
  },
  {
   "cell_type": "code",
   "execution_count": 28,
   "id": "dae638bb-665b-4373-a437-b317e0866b44",
   "metadata": {},
   "outputs": [],
   "source": [
    "from langchain.chat_models import ChatOpenAI\n",
    "from langchain.prompts import PromptTemplate\n",
    "from langchain.chains import LLMChain"
   ]
  },
  {
   "cell_type": "code",
   "execution_count": 29,
   "id": "27934f57-81bb-405b-8c26-03c0b3e3f86d",
   "metadata": {},
   "outputs": [],
   "source": [
    "llm = ChatOpenAI(model='gpt-4', temperature=0.5)\n",
    "\n",
    "template = \"\"\"Você é um virologista experiente.\n",
    "Escreva um resumo em {idioma} sobre o vírus {virus} .\"\"\"\n",
    "\n",
    "prompt= PromptTemplate(\n",
    "    input_variables=['virus', 'idioma'],\n",
    "    template=template\n",
    ")\n",
    "\n",
    "chain = LLMChain(llm=llm, prompt=prompt)\n",
    "output = chain.run({'virus': 'HIV', 'idioma': 'inglês'})"
   ]
  },
  {
   "cell_type": "code",
   "execution_count": 30,
   "id": "ae379032-599c-49f4-bd0c-b052fd9a2ac4",
   "metadata": {},
   "outputs": [
    {
     "data": {
      "text/plain": [
       "'The Human Immunodeficiency Virus (HIV) is a retrovirus that primarily infects components of the human immune system such as T-cells, macrophages, and dendritic cells. It directly and indirectly destroys CD4+ T cells, which leads to a weakened immune system and allows life-threatening opportunistic infections and cancers to thrive. HIV is transmitted through direct contact of a mucous membrane or the bloodstream with a bodily fluid containing the virus, such as blood, semen, vaginal fluid, preseminal fluid, and breast milk. \\n\\nThere are two types of HIV: HIV-1 and HIV-2. HIV-1 is the most widespread and pathogenic strain, while HIV-2 is less transmissible and usually less pathogenic. Both types are believed to have originated from the transfer of the virus from primates to humans. \\n\\nWithout treatment, the average survival time after infection with HIV is estimated to be 9 to 11 years. Antiretroviral therapy (ART) can slow the course of the disease and may lead to a near-normal life expectancy. Pre-exposure prophylaxis (PrEP) using antiretroviral medications has been established as an effective prevention method against HIV. \\n\\nHIV/AIDS research includes all medical research that attempts to prevent, treat, or cure HIV/AIDS, along with fundamental research about the nature of HIV as an infectious agent and AIDS as the disease caused by HIV. Despite efforts, no effective vaccine has been developed, but treatments have advanced to the point where people with HIV can live long and healthy lives.'"
      ]
     },
     "execution_count": 30,
     "metadata": {},
     "output_type": "execute_result"
    }
   ],
   "source": [
    "output"
   ]
  },
  {
   "cell_type": "markdown",
   "id": "fe9ef284-2887-41a4-92ee-c462d62bb9ce",
   "metadata": {},
   "source": [
    "## Sequential Chains"
   ]
  },
  {
   "cell_type": "code",
   "execution_count": 31,
   "id": "727306b9-073d-4c43-ac1a-e8916b5a3865",
   "metadata": {},
   "outputs": [],
   "source": [
    "from langchain.chat_models import ChatOpenAI\n",
    "from langchain.prompts import PromptTemplate\n",
    "from langchain.llms import OpenAI\n",
    "from langchain.chains import LLMChain, SimpleSequentialChain"
   ]
  },
  {
   "cell_type": "code",
   "execution_count": 32,
   "id": "cef6687b-6d16-4c61-b2b3-75817639a8b2",
   "metadata": {},
   "outputs": [
    {
     "name": "stdout",
     "output_type": "stream",
     "text": [
      "\n",
      "\n",
      "\u001b[1m> Entering new SimpleSequentialChain chain...\u001b[0m\n",
      "\u001b[36;1m\u001b[1;3m\n",
      "\n",
      "def criar_tupla(*args):\n",
      "    return args\n",
      "\n",
      "# Exemplo de uso:\n",
      "minha_tupla = criar_tupla(1, 2, 3, \"a\", \"b\", \"c\")\n",
      "print(minha_tupla) # (1, 2, 3, \"a\", \"b\", \"c\")\n",
      "print(type(minha_tupla)) # <class 'tuple'>\u001b[0m\n",
      "\u001b[33;1m\u001b[1;3mA função `criar_tupla` é definida com o uso do asterisco `*` no argumento `( *args)`. Isso permite que a função receba qualquer número de argumentos posicionais e os empacote em uma tupla chamada `args`.\n",
      "\n",
      "Dentro da função, ela simplesmente retorna o valor da tupla `args`.\n",
      "\n",
      "No exemplo de uso dado, a função `criar_tupla` é chamada com os argumentos 1, 2, 3, \"a\", \"b\", \"c\". Esses argumentos são empacotados em uma tupla, assim `args = (1, 2, 3, \"a\", \"b\", \"c\")`. Em seguida, essa tupla é atribuída à variável `minha_tupla`.\n",
      "\n",
      "Ao imprimir `minha_tupla`, o resultado é `(1, 2, 3, \"a\", \"b\", \"c\")`, ou seja, todos os argumentos passados para a função estão presentes na tupla.\n",
      "\n",
      "Em seguida, ao imprimir `type(minha_tupla)`, o resultado é `<class 'tuple'>`. Isso confirma que `minha_tupla` é realmente uma instância da classe `tuple`, ou seja, uma tupla.\n",
      "\n",
      "Dessa forma, a função `criar_tupla` permite que você crie uma tupla com um número variável de elementos, simplesmente passando esses elementos como argumentos para a função.\u001b[0m\n",
      "\n",
      "\u001b[1m> Finished chain.\u001b[0m\n"
     ]
    }
   ],
   "source": [
    "llm1 = OpenAI(model='gpt-3.5-turbo-instruct', temperature=0.7, max_tokens=1024)\n",
    "prompt1 = PromptTemplate(\n",
    "    input_variables=['conceito'],\n",
    "    template=\"\"\"Você é um cientista experiente e programador Python.\n",
    "    Escreva uma função que implementa o conceito de {conceito}.\"\"\"\n",
    ")\n",
    "\n",
    "chain1 = LLMChain(llm=llm1, prompt=prompt1)\n",
    "\n",
    "# segunda chain\n",
    "\n",
    "llm2 = ChatOpenAI(model='gpt-3.5-turbo', temperature=1.2)\n",
    "prompt2 = PromptTemplate(\n",
    "    input_variables=['function'],\n",
    "    template=\"\"\"Dada a função Python {function}, descreva como funciona da forma mais detalhada possível.\"\"\"\n",
    ")\n",
    "\n",
    "chain2 = LLMChain(llm=llm2, prompt=prompt2)\n",
    "\n",
    "overall_chain = SimpleSequentialChain(chains=[chain1, chain2], verbose=True)\n",
    "output = overall_chain.run('regressão linear')"
   ]
  },
  {
   "cell_type": "code",
   "execution_count": 33,
   "id": "6409d64a-37b8-45f8-98e0-1afb6337d513",
   "metadata": {},
   "outputs": [
    {
     "data": {
      "text/plain": [
       "'A função `criar_tupla` é definida com o uso do asterisco `*` no argumento `( *args)`. Isso permite que a função receba qualquer número de argumentos posicionais e os empacote em uma tupla chamada `args`.\\n\\nDentro da função, ela simplesmente retorna o valor da tupla `args`.\\n\\nNo exemplo de uso dado, a função `criar_tupla` é chamada com os argumentos 1, 2, 3, \"a\", \"b\", \"c\". Esses argumentos são empacotados em uma tupla, assim `args = (1, 2, 3, \"a\", \"b\", \"c\")`. Em seguida, essa tupla é atribuída à variável `minha_tupla`.\\n\\nAo imprimir `minha_tupla`, o resultado é `(1, 2, 3, \"a\", \"b\", \"c\")`, ou seja, todos os argumentos passados para a função estão presentes na tupla.\\n\\nEm seguida, ao imprimir `type(minha_tupla)`, o resultado é `<class \\'tuple\\'>`. Isso confirma que `minha_tupla` é realmente uma instância da classe `tuple`, ou seja, uma tupla.\\n\\nDessa forma, a função `criar_tupla` permite que você crie uma tupla com um número variável de elementos, simplesmente passando esses elementos como argumentos para a função.'"
      ]
     },
     "execution_count": 33,
     "metadata": {},
     "output_type": "execute_result"
    }
   ],
   "source": [
    "output"
   ]
  },
  {
   "cell_type": "markdown",
   "id": "e5755881-9360-40bc-bffb-0d3ea7f252c2",
   "metadata": {},
   "source": [
    "## LangChain Agents"
   ]
  },
  {
   "cell_type": "code",
   "execution_count": 34,
   "id": "c3eabe66-1c6e-455f-8fca-d69bc442d5f5",
   "metadata": {},
   "outputs": [],
   "source": [
    "from langchain_experimental.agents.agent_toolkits import create_python_agent\n",
    "from langchain_experimental.tools.python.tool import PythonAstREPLTool\n",
    "from langchain.llms import OpenAI"
   ]
  },
  {
   "cell_type": "code",
   "execution_count": 35,
   "id": "e22b06ff-b255-4b9b-b820-13e8130c2bb4",
   "metadata": {},
   "outputs": [
    {
     "name": "stdout",
     "output_type": "stream",
     "text": [
      "\n",
      "\n",
      "\u001b[1m> Entering new AgentExecutor chain...\u001b[0m\n",
      "\u001b[32;1m\u001b[1;3m I need to calculate the square root of the factorial of 20\n",
      "Action: python_repl_ast\n",
      "Action Input: from math import factorial; print(f\"{round(factorial(20)**0.5, 4)}\")\u001b[0m\n",
      "Observation: \u001b[36;1m\u001b[1;3m1559776268.6285\n",
      "\u001b[0m\n",
      "Thought:\u001b[32;1m\u001b[1;3m I now know the final answer\n",
      "Final Answer: 1559776268.6285\u001b[0m\n",
      "\n",
      "\u001b[1m> Finished chain.\u001b[0m\n"
     ]
    },
    {
     "data": {
      "text/plain": [
       "'1559776268.6285'"
      ]
     },
     "execution_count": 35,
     "metadata": {},
     "output_type": "execute_result"
    }
   ],
   "source": [
    "llm = OpenAI(temperature=0)\n",
    "agent_executor = create_python_agent(\n",
    "    llm=llm,\n",
    "    tool=PythonAstREPLTool(),\n",
    "    verbose=True\n",
    ")\n",
    "agent_executor.run('calcule a raiz quadrada do fatorial de 20 e exiba com quatro casas decimais')"
   ]
  },
  {
   "cell_type": "markdown",
   "id": "2fae4627-19ef-4e2e-b405-684ba27703ac",
   "metadata": {},
   "source": [
    "## Splitting e Embedding de texto"
   ]
  },
  {
   "cell_type": "code",
   "execution_count": 61,
   "id": "8e2e9ffa-cca4-4a4f-9e51-d58d696030cb",
   "metadata": {},
   "outputs": [],
   "source": [
    "from langchain.text_splitter import RecursiveCharacterTextSplitter\n",
    "\n",
    "with open('docs/CLT.txt') as f:\n",
    "    clt = f.read()\n",
    "\n",
    "text_splitter = RecursiveCharacterTextSplitter(\n",
    "    chunk_size=1000,\n",
    "    chunk_overlap=10,\n",
    "    length_function=len #geralmente se conta pelo numero de tokens\n",
    ")"
   ]
  },
  {
   "cell_type": "code",
   "execution_count": 62,
   "id": "e24ee6e2-0912-4d6e-9f5d-686df2041e88",
   "metadata": {},
   "outputs": [],
   "source": [
    "chunks = text_splitter.create_documents([clt])"
   ]
  },
  {
   "cell_type": "code",
   "execution_count": 63,
   "id": "18ee03d5-4ca6-43de-88ec-b7555037ca9f",
   "metadata": {},
   "outputs": [
    {
     "data": {
      "text/plain": [
       "Document(page_content='CLT E A REFORMA TRABALHISTA: EVOLUÇÃO\\n                                     NAS RELAÇÕES DE TRABALHO\\n\\n                                                                                                Eliezer de Queiroz Noleto1')"
      ]
     },
     "execution_count": 63,
     "metadata": {},
     "output_type": "execute_result"
    }
   ],
   "source": [
    "chunks[0]"
   ]
  },
  {
   "cell_type": "code",
   "execution_count": 64,
   "id": "1536a144-ecd6-42cf-b31a-ecdd102976cf",
   "metadata": {},
   "outputs": [
    {
     "data": {
      "text/plain": [
       "'Ao falarmos sobre a Consolidação das Leis do Trabalho (CLT), somos reme-\\n          tidos ao período conhecido como Era Vargas. Editada no ano de 1943, a CLT resultou\\n          da coletânea de inúmeras leis esparsas então existentes que disciplinavam aspectos\\n          sobre direito individual do trabalho, direito coletivo, fiscalização do trabalho, direito\\n          processual do trabalho, além de legislações específicas de determinadas profissões.\\n                    Esse era o espírito do trabalho desenvolvido pela comissão constituída\\n          para elaborar a CLT, evidenciado na exposição de motivos que acompanhou o\\n          texto final do projeto. Segundo esse escrito, a consolidação nada mais é do que “a\\n          fase própria da concatenação dos textos e da coordenação dos princípios, quando\\n          já se denuncia primeiro o pensamento do sistema depois de haverem sido regu-'"
      ]
     },
     "execution_count": 64,
     "metadata": {},
     "output_type": "execute_result"
    }
   ],
   "source": [
    "chunks[1].page_content"
   ]
  },
  {
   "cell_type": "code",
   "execution_count": 65,
   "id": "619eb269-de6b-479a-8def-53538098c137",
   "metadata": {},
   "outputs": [
    {
     "data": {
      "text/plain": [
       "1167"
      ]
     },
     "execution_count": 65,
     "metadata": {},
     "output_type": "execute_result"
    }
   ],
   "source": [
    "len(chunks) #numero de vetores no banco de dados de vetor"
   ]
  },
  {
   "cell_type": "code",
   "execution_count": 44,
   "id": "adf62d17-aefa-410c-9838-c1e7d5314ffd",
   "metadata": {},
   "outputs": [],
   "source": [
    "def embedding_cost(texts: list) -> None:\n",
    "    import tiktoken\n",
    "    enc = tiktoken.encoding_for_model('text-embedding-ada-002')\n",
    "    total_tokens = sum([len(enc.encode(page.page_content)) for page in texts])\n",
    "    print(f'Total de tokens: {total_tokens}')\n",
    "    print(f'Custo de Embedding em USD: {total_tokens / 1000 * 0.0001:6f}')"
   ]
  },
  {
   "cell_type": "code",
   "execution_count": 66,
   "id": "8fadb5ba-7f88-4206-aaf8-1ae7f6cda7f5",
   "metadata": {},
   "outputs": [
    {
     "name": "stdout",
     "output_type": "stream",
     "text": [
      "Total de tokens: 257483\n",
      "Custo de Embedding em USD: 0.025748\n"
     ]
    }
   ],
   "source": [
    "embedding_cost(chunks)"
   ]
  },
  {
   "cell_type": "markdown",
   "id": "f99ae56b-f104-4baf-a4ea-5f38cf654b5b",
   "metadata": {},
   "source": [
    "### Criando embeddings"
   ]
  },
  {
   "cell_type": "code",
   "execution_count": 46,
   "id": "4bfb1297-270b-42fb-95a2-921688eff9be",
   "metadata": {},
   "outputs": [],
   "source": [
    "from langchain.embeddings import OpenAIEmbeddings\n",
    "embeddings = OpenAIEmbeddings()"
   ]
  },
  {
   "cell_type": "code",
   "execution_count": 68,
   "id": "d01e8a4e-d24c-4556-a70b-53c0e24f6c49",
   "metadata": {},
   "outputs": [],
   "source": [
    "vector = embeddings.embed_query(chunks[0].page_content)"
   ]
  },
  {
   "cell_type": "code",
   "execution_count": 69,
   "id": "e21d2ead-9577-4ec8-adfb-82e8dd2d2d19",
   "metadata": {},
   "outputs": [],
   "source": [
    "#vector"
   ]
  },
  {
   "cell_type": "code",
   "execution_count": 70,
   "id": "bd0ac007-ae31-44bf-872d-8f0107fd60fa",
   "metadata": {},
   "outputs": [],
   "source": [
    "import os\n",
    "import pinecone\n",
    "from langchain.vectorstores.pinecone import Pinecone\n",
    "\n",
    "pinecone.init(api_key=os.environ.get('PINECONE_API_KEY'), environment=os.environ.get('PINECONE_ENV'))"
   ]
  },
  {
   "cell_type": "code",
   "execution_count": 71,
   "id": "5696139a-cb76-4b27-9b26-32e089fe2caf",
   "metadata": {},
   "outputs": [
    {
     "name": "stdout",
     "output_type": "stream",
     "text": [
      "Feito!\n"
     ]
    }
   ],
   "source": [
    "indexes = pinecone.list_indexes()\n",
    "indexes\n",
    "#conta free só permite 1 indice. Caso queira remover os índices existentes:\n",
    "for i in indexes:\n",
    "    pinecone.delete_index(i)\n",
    "    print('Feito!')"
   ]
  },
  {
   "cell_type": "code",
   "execution_count": 72,
   "id": "1ab8417c-b2ea-44f0-879b-292c43ebd619",
   "metadata": {},
   "outputs": [
    {
     "name": "stdout",
     "output_type": "stream",
     "text": [
      "Feito!\n"
     ]
    }
   ],
   "source": [
    "index_name = 'descllm'\n",
    "if index_name not in pinecone.list_indexes():\n",
    "    pinecone.create_index(\n",
    "        index_name,\n",
    "        dimension=1536, #dimension: https://platform.openai.com/docs/guides/embeddings/second-generation-models\n",
    "        metric='cosine' #algoritmo de similaridade\n",
    "    )\n",
    "    print('Feito!')"
   ]
  },
  {
   "cell_type": "code",
   "execution_count": 73,
   "id": "0ab7e66c-87fa-463d-8c63-8bb593f9b59a",
   "metadata": {},
   "outputs": [],
   "source": [
    "vector_store = Pinecone.from_documents(chunks, embeddings, index_name=index_name)"
   ]
  },
  {
   "cell_type": "markdown",
   "id": "0271090a-e225-4bbb-92ab-5f8f479f61e3",
   "metadata": {},
   "source": [
    "### Conversando com os dados (busca por similaridade)"
   ]
  },
  {
   "cell_type": "code",
   "execution_count": 74,
   "id": "a428b57b-4a8c-4f0b-9400-58cc4b6e1f24",
   "metadata": {},
   "outputs": [
    {
     "name": "stdout",
     "output_type": "stream",
     "text": [
      "[Document(page_content='tativos da respectiva categoria profissional, e pro-         da remuneração da tarefa na data da concessão\\nvidenciará a afixação de aviso nos locais de tra-            das férias. (Parágrafo acrescido pelo Decreto-Lei nº 1.535,\\nbalho. (Parágrafo acrescido pelo Decreto-Lei nº 1.535, de   de 13/4/1977)\\n13/4/1977)                                                    § 3º Quando o salário for pago por percenta-\\nArt. 140. Os empregados contratados há menos                gem, comissão ou viagem, apurar-se-á a média\\nde 12 (doze) meses gozarão, na oportunidade,                percebida pelo empregado nos 12 (doze) meses\\nférias proporcionais, iniciando-se, então, novo             que precederem à concessão das férias. (Parágrafo\\nperíodo aquisitivo. (Artigo com redação dada pelo           acrescido pelo Decreto-Lei nº 1.535, de 13/4/1977)\\nDecreto-Lei nº 1.535, de 13/4/1977)                           § 4º A parte do salário paga em utilidades será'), Document(page_content='com redação dada pelo Decreto-Lei nº 1.535, de 13/4/1977)\\n   § 1º É vedado descontar, do período de férias, as\\n                                                                  I – deixar o emprego e não for readmitido dentro\\nfaltas do empregado ao serviço. (Parágrafo acrescido\\n                                                                dos 60 (sessenta) dias subsequentes à sua saída;\\npelo Decreto-Lei nº 1.535, de 13/4/1977)\\n                                                                (Inciso acrescido pelo Decreto-Lei nº 1.535, de 13/4/1977)\\n  § 2º O período das férias será computado, para\\n                                                                  II – permanecer em gozo de licença, com per-\\ntodos os efeitos, como tempo de serviço. (Parágrafo\\n                                                                cepção de salários, por mais de 30 (trinta) dias;\\nacrescido pelo Decreto-Lei nº 1.535, de 13/4/1977)'), Document(page_content='Art. 129. Todo empregado terá direito anual-                    5/11/1993)\\nmente ao gozo de um período de férias, sem pre-                   IV – justificada pela empresa, entendendo-se\\njuízo da remuneração. (Artigo com redação dada pelo             como tal a que não tiver determinado o desconto\\nDecreto-Lei nº 1.535, de 13/4/1977) (Vide art. 7º, XVII, da     do correspondente salário; (Inciso acrescido pelo\\nConstituição Federal de 1988)                                   Decreto-Lei nº 1.535, de 13/4/1977)\\n                                                                   V – durante a suspensão preventiva para respon-\\nArt. 130. Após cada período de 12 (doze) meses\\n                                                                der a inquérito administrativo ou de prisão preven-\\nde vigência do contrato de trabalho, o empregado\\n                                                                tiva, quando for impronunciado ou absolvido; e'), Document(page_content='empregador, em um só período, nos 12 (doze)                 pagará em dobro a respectiva remuneração. (Caput\\n     meses subsequentes à data em que o empregado                do artigo com redação dada pelo Decreto-Lei nº 1.535, de\\n     tiver adquirido o direito. (Caput do artigo com redação     13/4/1977)\\n     dada pelo Decreto-Lei nº 1.535, de 13/4/1977)                 § 1º Vencido o mencionado prazo sem que o\\n       § 1º Desde que haja concordância do empre-                empregador tenha concedido as férias, o empre-\\n     gado, as férias poderão ser usufruídas em até               gado poderá ajuizar reclamação pedindo a fixação,\\n     três períodos, sendo que um deles não poderá                por sentença, da época de gozo das mesmas. (Pa-\\n     ser inferior a quatorze dias corridos e os demais           rágrafo acrescido pelo Decreto-Lei nº 1.535, de 13/4/1977)\\n     não poderão ser inferiores a cinco dias corridos,              § 2º A sentença cominará pena diária de 5%')]\n"
     ]
    }
   ],
   "source": [
    "query = 'explique a remuneração das férias'\n",
    "result = vector_store.similarity_search(query)\n",
    "print(result)"
   ]
  },
  {
   "cell_type": "code",
   "execution_count": 75,
   "id": "4cbd3192-150e-4c1b-9410-4e49ae2d34a6",
   "metadata": {},
   "outputs": [
    {
     "name": "stdout",
     "output_type": "stream",
     "text": [
      "tativos da respectiva categoria profissional, e pro-         da remuneração da tarefa na data da concessão\n",
      "videnciará a afixação de aviso nos locais de tra-            das férias. (Parágrafo acrescido pelo Decreto-Lei nº 1.535,\n",
      "balho. (Parágrafo acrescido pelo Decreto-Lei nº 1.535, de   de 13/4/1977)\n",
      "13/4/1977)                                                    § 3º Quando o salário for pago por percenta-\n",
      "Art. 140. Os empregados contratados há menos                gem, comissão ou viagem, apurar-se-á a média\n",
      "de 12 (doze) meses gozarão, na oportunidade,                percebida pelo empregado nos 12 (doze) meses\n",
      "férias proporcionais, iniciando-se, então, novo             que precederem à concessão das férias. (Parágrafo\n",
      "período aquisitivo. (Artigo com redação dada pelo           acrescido pelo Decreto-Lei nº 1.535, de 13/4/1977)\n",
      "Decreto-Lei nº 1.535, de 13/4/1977)                           § 4º A parte do salário paga em utilidades será\n",
      "----------------------------------------\n",
      "com redação dada pelo Decreto-Lei nº 1.535, de 13/4/1977)\n",
      "   § 1º É vedado descontar, do período de férias, as\n",
      "                                                                  I – deixar o emprego e não for readmitido dentro\n",
      "faltas do empregado ao serviço. (Parágrafo acrescido\n",
      "                                                                dos 60 (sessenta) dias subsequentes à sua saída;\n",
      "pelo Decreto-Lei nº 1.535, de 13/4/1977)\n",
      "                                                                (Inciso acrescido pelo Decreto-Lei nº 1.535, de 13/4/1977)\n",
      "  § 2º O período das férias será computado, para\n",
      "                                                                  II – permanecer em gozo de licença, com per-\n",
      "todos os efeitos, como tempo de serviço. (Parágrafo\n",
      "                                                                cepção de salários, por mais de 30 (trinta) dias;\n",
      "acrescido pelo Decreto-Lei nº 1.535, de 13/4/1977)\n",
      "----------------------------------------\n",
      "Art. 129. Todo empregado terá direito anual-                    5/11/1993)\n",
      "mente ao gozo de um período de férias, sem pre-                   IV – justificada pela empresa, entendendo-se\n",
      "juízo da remuneração. (Artigo com redação dada pelo             como tal a que não tiver determinado o desconto\n",
      "Decreto-Lei nº 1.535, de 13/4/1977) (Vide art. 7º, XVII, da     do correspondente salário; (Inciso acrescido pelo\n",
      "Constituição Federal de 1988)                                   Decreto-Lei nº 1.535, de 13/4/1977)\n",
      "                                                                   V – durante a suspensão preventiva para respon-\n",
      "Art. 130. Após cada período de 12 (doze) meses\n",
      "                                                                der a inquérito administrativo ou de prisão preven-\n",
      "de vigência do contrato de trabalho, o empregado\n",
      "                                                                tiva, quando for impronunciado ou absolvido; e\n",
      "----------------------------------------\n",
      "empregador, em um só período, nos 12 (doze)                 pagará em dobro a respectiva remuneração. (Caput\n",
      "     meses subsequentes à data em que o empregado                do artigo com redação dada pelo Decreto-Lei nº 1.535, de\n",
      "     tiver adquirido o direito. (Caput do artigo com redação     13/4/1977)\n",
      "     dada pelo Decreto-Lei nº 1.535, de 13/4/1977)                 § 1º Vencido o mencionado prazo sem que o\n",
      "       § 1º Desde que haja concordância do empre-                empregador tenha concedido as férias, o empre-\n",
      "     gado, as férias poderão ser usufruídas em até               gado poderá ajuizar reclamação pedindo a fixação,\n",
      "     três períodos, sendo que um deles não poderá                por sentença, da época de gozo das mesmas. (Pa-\n",
      "     ser inferior a quatorze dias corridos e os demais           rágrafo acrescido pelo Decreto-Lei nº 1.535, de 13/4/1977)\n",
      "     não poderão ser inferiores a cinco dias corridos,              § 2º A sentença cominará pena diária de 5%\n",
      "----------------------------------------\n"
     ]
    }
   ],
   "source": [
    "for r in result:\n",
    "    print(r.page_content)\n",
    "    print('-' * 40)"
   ]
  },
  {
   "cell_type": "markdown",
   "id": "ad410199-5880-4ed5-a048-749e984d438d",
   "metadata": {},
   "source": [
    "### Gerando respostas com LLM"
   ]
  },
  {
   "cell_type": "code",
   "execution_count": 76,
   "id": "af7b29e7-0c5f-430a-9ad0-692683b40fcd",
   "metadata": {},
   "outputs": [],
   "source": [
    "from langchain.chains import RetrievalQA\n",
    "from langchain.chat_models import ChatOpenAI"
   ]
  },
  {
   "cell_type": "code",
   "execution_count": 77,
   "id": "b533777d-051e-40ce-8424-41722f3629f4",
   "metadata": {},
   "outputs": [],
   "source": [
    "llm = ChatOpenAI(model='gpt-3.5-turbo-16k', temperature=0.5)\n",
    "\n",
    "retriever = vector_store.as_retriever(search_type='similarity', search_kwargs={'k': 3}) #k:3 retorna os 3 chunks mais semelhantes a consulta do usuario\n",
    "\n",
    "chain = RetrievalQA.from_chain_type(llm=llm, chain_type='stuff', retriever=retriever) #stuff: usa todo o texto dos documentos no prompt"
   ]
  },
  {
   "cell_type": "code",
   "execution_count": 79,
   "id": "f6282136-c1cf-4632-a321-7a262986c649",
   "metadata": {},
   "outputs": [
    {
     "name": "stdout",
     "output_type": "stream",
     "text": [
      "O décimo terceiro salário é um benefício garantido por lei aos trabalhadores brasileiros. Ele consiste no pagamento de uma gratificação equivalente a 1/12 avos da remuneração devida ao empregado em cada mês trabalhado no ano. Em outras palavras, o décimo terceiro salário corresponde a 1/12 do salário mensal para cada mês completo trabalhado.\n",
      "\n",
      "Esse pagamento é feito em duas parcelas: a primeira até o dia 30 de novembro e a segunda até o dia 20 de dezembro. A primeira parcela corresponde a 50% do valor total do décimo terceiro salário e é paga sem descontos. Já a segunda parcela corresponde aos outros 50% e pode sofrer descontos referentes ao Imposto de Renda e à contribuição previdenciária, dependendo da faixa salarial do empregado.\n",
      "\n",
      "É importante ressaltar que o décimo terceiro salário é um direito de todos os trabalhadores com carteira assinada, incluindo empregados domésticos, trabalhadores rurais, temporários e intermitentes. Além disso, é garantido também para empregados afastados por motivo de doença, licença-maternidade, acidente de trabalho, entre outros casos.\n"
     ]
    }
   ],
   "source": [
    "query = 'como funciona o décimo terceiro salário?'\n",
    "resp = chain.run(query)\n",
    "print(resp)"
   ]
  },
  {
   "cell_type": "code",
   "execution_count": null,
   "id": "aea5bf7f-c1c4-4785-81d6-9556d0cc6d0a",
   "metadata": {},
   "outputs": [],
   "source": []
  }
 ],
 "metadata": {
  "kernelspec": {
   "display_name": "Python 3 (ipykernel)",
   "language": "python",
   "name": "python3"
  },
  "language_info": {
   "codemirror_mode": {
    "name": "ipython",
    "version": 3
   },
   "file_extension": ".py",
   "mimetype": "text/x-python",
   "name": "python",
   "nbconvert_exporter": "python",
   "pygments_lexer": "ipython3",
   "version": "3.11.5"
  }
 },
 "nbformat": 4,
 "nbformat_minor": 5
}
