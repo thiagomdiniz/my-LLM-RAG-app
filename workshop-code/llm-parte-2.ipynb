{
 "cells": [
  {
   "cell_type": "code",
   "execution_count": 1,
   "id": "0bb0b493-8d3f-4301-94da-c6819bb6f2a5",
   "metadata": {},
   "outputs": [
    {
     "data": {
      "text/plain": [
       "True"
      ]
     },
     "execution_count": 1,
     "metadata": {},
     "output_type": "execute_result"
    }
   ],
   "source": [
    "import os\n",
    "from dotenv import load_dotenv, find_dotenv\n",
    "load_dotenv(find_dotenv(), override=True)"
   ]
  },
  {
   "cell_type": "code",
   "execution_count": 16,
   "id": "15479e06-232d-47f3-a21a-a6386d608b34",
   "metadata": {},
   "outputs": [],
   "source": [
    "def load_document(file):\n",
    "    import os\n",
    "    name, extension = os.path.splitext(file)\n",
    "\n",
    "    print(f'Carregando arquivo {file}')\n",
    "    if extension == '.pdf':\n",
    "        from langchain.document_loaders import PyPDFLoader\n",
    "        loader = PyPDFLoader(file) #cada pagina vira um documento LangChain\n",
    "    elif extension == '.docx':\n",
    "        from langchain.document_loaders import Docx2txtLoader\n",
    "        loader = Docx2txtLoader(file)\n",
    "    else:\n",
    "        print('Formato não suportado!')\n",
    "        return None\n",
    "\n",
    "    data = loader.load()\n",
    "    return data\n",
    "\n",
    "# Wikipedia Loader\n",
    "def load_from_wikipedia(query, lang='pt', load_max_docs=2):\n",
    "    from langchain.document_loaders import WikipediaLoader\n",
    "    loader = WikipediaLoader(query=query, lang=lang, load_max_docs=load_max_docs)\n",
    "    data = loader.load()\n",
    "    return data"
   ]
  },
  {
   "cell_type": "code",
   "execution_count": 27,
   "id": "fe1599e8-e244-47bf-a463-9796e995369a",
   "metadata": {},
   "outputs": [],
   "source": [
    "# Teste carregando dados de um pdf\n",
    "# documento = load_document('docs/CLT.pdf')\n",
    "# data[100].metadata\n",
    "# data[100].page_content\n",
    "# len(data) #quantos documentos"
   ]
  },
  {
   "cell_type": "code",
   "execution_count": 28,
   "id": "c4666963-2140-46d5-96c8-2ef4c6aeedb5",
   "metadata": {},
   "outputs": [],
   "source": [
    "# Teste carregando dados da wikipedia\n",
    "# data = load_from_wikipedia('GPT-4')\n",
    "# data[1].page_content"
   ]
  },
  {
   "cell_type": "code",
   "execution_count": 35,
   "id": "114c3d49-2df0-4879-84c5-57cffae07173",
   "metadata": {},
   "outputs": [],
   "source": [
    "def chunk_data(data, chunk_size=1000):\n",
    "    from langchain.text_splitter import RecursiveCharacterTextSplitter #splitter recomendado para texto genérico\n",
    "    text_splitter = RecursiveCharacterTextSplitter(chunk_size=chunk_size, chunk_overlap=0)\n",
    "    chunks = text_splitter.split_documents(data)\n",
    "    return chunks\n",
    "\n",
    "def embedding_cost(texts: list) -> None:\n",
    "    import tiktoken\n",
    "    enc = tiktoken.encoding_for_model('text-embedding-ada-002')\n",
    "    total_tokens = sum([len(enc.encode(page.page_content)) for page in texts])\n",
    "    print(f'Total de tokens: {total_tokens}')\n",
    "    print(f'Custo de Embedding em USD: {total_tokens / 1000 * 0.0001:6f}')"
   ]
  },
  {
   "cell_type": "code",
   "execution_count": 36,
   "id": "1e30fe07-e01f-4495-8a3f-e508e774c041",
   "metadata": {},
   "outputs": [
    {
     "name": "stdout",
     "output_type": "stream",
     "text": [
      "Carregando arquivo docs/CLT.pdf\n"
     ]
    }
   ],
   "source": [
    "data = load_document('docs/CLT.pdf')\n",
    "chunks = chunk_data(data)"
   ]
  },
  {
   "cell_type": "code",
   "execution_count": 37,
   "id": "37b30fda-0657-459c-8065-b42b06d34f75",
   "metadata": {},
   "outputs": [
    {
     "data": {
      "text/plain": [
       "'Título IV-A – Da Representação dos Empregados ........................................................................................ 88\\nTítulo V – Da Organização Sindical ............................................................................................................... 89\\nCapítulo I – Da Instituição Sindical ......................................................................................................... 89\\nCapítulo II – Do Enquadramento Sindical ............................................................................................. 100\\nCapítulo III – Da Contribuição Sindical ................................................................................................. 101\\nTítulo VI – Das Convenções Coletivas de Trabalho .................................................................................... 109\\nTítulo VI-A – Das Comissões de Conciliação Prévia ................................................................................... 113'"
      ]
     },
     "execution_count": 37,
     "metadata": {},
     "output_type": "execute_result"
    }
   ],
   "source": [
    "chunks[10].page_content"
   ]
  },
  {
   "cell_type": "code",
   "execution_count": 47,
   "id": "b3c29d81-72e1-4879-9c8f-df52d7ce0878",
   "metadata": {},
   "outputs": [
    {
     "data": {
      "text/plain": [
       "861"
      ]
     },
     "execution_count": 47,
     "metadata": {},
     "output_type": "execute_result"
    }
   ],
   "source": [
    "len(chunks) #quantos fragmentos/chunks/documentos (vector count)"
   ]
  },
  {
   "cell_type": "code",
   "execution_count": 44,
   "id": "5e7ab867-52b2-4c9b-9b7c-5d3505dc6348",
   "metadata": {},
   "outputs": [
    {
     "name": "stdout",
     "output_type": "stream",
     "text": [
      "Total de tokens: 252697\n",
      "Custo de Embedding em USD: 0.025270\n"
     ]
    }
   ],
   "source": [
    "embedding_cost(chunks)"
   ]
  },
  {
   "cell_type": "code",
   "execution_count": 46,
   "id": "8e46ec51-afef-42d2-b7d5-7fac044d7bbd",
   "metadata": {},
   "outputs": [],
   "source": [
    "def insert_embeddings(index_name):\n",
    "    import pinecone\n",
    "    from langchain.vectorstores.pinecone import Pinecone\n",
    "    from langchain.embeddings.openai import OpenAIEmbeddings\n",
    "\n",
    "    embeddings = OpenAIEmbeddings()\n",
    "    pinecone.init(api_key=os.environ.get('PINECONE_API_KEY'), environment=os.environ.get('PINECONE_ENV'))\n",
    "\n",
    "    if index_name in pinecone.list_indexes():\n",
    "        print(f'Index {index_name}')\n",
    "        vector_store = Pinecone.from_existing_index(index_name, embeddings)\n",
    "        print('OK')\n",
    "    else:\n",
    "        print(f'Criando índice {index_name}')\n",
    "        pinecone.create_index(index_name, dimension=1536, metric='cosine')\n",
    "        vector_store = Pinecone.from_documents(chunks, embeddings, index_name=index_name)\n",
    "        print('OK')\n",
    "    return vector_store"
   ]
  },
  {
   "cell_type": "code",
   "execution_count": 41,
   "id": "0a26ef8c-1eec-4e2b-bbff-38cfe4db9425",
   "metadata": {},
   "outputs": [],
   "source": [
    "def delete_index(index_name='all'):\n",
    "    import pinecone\n",
    "    pinecone.init(api_key=os.environ.get('PINECONE_API_KEY'), environment=os.environ.get('PINECONE_ENV'))\n",
    "\n",
    "    if index_name == 'all':\n",
    "        indexes = pinecone.list_indexes()\n",
    "        print('Deletando todos os índices...')\n",
    "        for index in indexes:\n",
    "            pinecone.delete_index(index)\n",
    "    else:\n",
    "        print(f'Deletando índice {index_name}')\n",
    "        pinecone.delete_index(index_name)"
   ]
  },
  {
   "cell_type": "code",
   "execution_count": 42,
   "id": "3823a162-9c60-4409-a72a-434b843fd3b5",
   "metadata": {},
   "outputs": [
    {
     "name": "stderr",
     "output_type": "stream",
     "text": [
      "/opt/conda/lib/python3.11/site-packages/pinecone/index.py:4: TqdmWarning: IProgress not found. Please update jupyter and ipywidgets. See https://ipywidgets.readthedocs.io/en/stable/user_install.html\n",
      "  from tqdm.autonotebook import tqdm\n"
     ]
    },
    {
     "name": "stdout",
     "output_type": "stream",
     "text": [
      "Deletando todos os índices...\n"
     ]
    }
   ],
   "source": [
    "delete_index()"
   ]
  },
  {
   "cell_type": "code",
   "execution_count": 45,
   "id": "03a138b4-1e43-43bd-8038-9e2395fc3a48",
   "metadata": {},
   "outputs": [
    {
     "name": "stdout",
     "output_type": "stream",
     "text": [
      "Criando index linuxtips\n",
      "OK\n"
     ]
    }
   ],
   "source": [
    "index_name = 'linuxtips'\n",
    "vector_store = insert_embeddings(index_name)"
   ]
  },
  {
   "cell_type": "code",
   "execution_count": 53,
   "id": "78ba0c6e-5de0-4b6c-8721-5caf09c2feb5",
   "metadata": {},
   "outputs": [],
   "source": [
    "def get_answer(vector_store, query):\n",
    "    from langchain.chains import RetrievalQA\n",
    "    from langchain.chat_models import ChatOpenAI\n",
    "\n",
    "    llm = ChatOpenAI(model='gpt-3.5-turbo', temperature=1)\n",
    "\n",
    "    retriever = vector_store.as_retriever(search_type='similarity', search_kwargs={'k': 3})\n",
    "\n",
    "    chain = RetrievalQA.from_chain_type(llm=llm, chain_type='stuff', retriever=retriever)\n",
    "\n",
    "    answer = chain.run(query)\n",
    "    return answer\n",
    "\n",
    "\n",
    "def ask_with_memory(vector_store, query, chat_history=[]):\n",
    "    from langchain.chains import ConversationalRetrievalChain\n",
    "    from langchain.chat_models import ChatOpenAI\n",
    "\n",
    "    llm = ChatOpenAI(temperature=1) #default é model='gpt-3.5-turbo'\n",
    "    retriever = vector_store.as_retriever(search_type='similarity', search_kwargs={'k': 3})\n",
    "\n",
    "    crc = ConversationalRetrievalChain.from_llm(llm, retriever)\n",
    "    result = crc({'question': query, 'chat_history': chat_history})\n",
    "    chat_history.append((query, result['answer']))\n",
    "\n",
    "    return result, chat_history"
   ]
  },
  {
   "cell_type": "code",
   "execution_count": 49,
   "id": "7fb0543a-b84a-47e7-95c4-6c3041d308ff",
   "metadata": {},
   "outputs": [
    {
     "name": "stdout",
     "output_type": "stream",
     "text": [
      "De acordo com o Decreto-Lei nº 1.535, de 13/4/1977, o empregado tem direito a férias após 12 meses de serviço.\n"
     ]
    }
   ],
   "source": [
    "query = 'depois de quanto tempo de trabalho tenho direito a férias?'\n",
    "answer = get_answer(vector_store, query)\n",
    "print(answer)"
   ]
  },
  {
   "cell_type": "code",
   "execution_count": 51,
   "id": "6f38d395-04e0-4907-8dee-8db8dcacb719",
   "metadata": {},
   "outputs": [
    {
     "name": "stdout",
     "output_type": "stream",
     "text": [
      "Digite sair para encerrar.\n"
     ]
    },
    {
     "name": "stdin",
     "output_type": "stream",
     "text": [
      "Pergunta: #1:  o que é o décimo terceiro salário?\n"
     ]
    },
    {
     "name": "stdout",
     "output_type": "stream",
     "text": [
      "\n",
      "Resposta: O décimo terceiro salário é um benefício garantido aos trabalhadores no Brasil, que consiste no pagamento de um salário extra no final do ano. Ele é calculado com base no valor da remuneração do trabalhador e deve ser pago em duas parcelas: a primeira até o dia 30 de novembro e a segunda até o dia 20 de dezembro.\n",
      "\n",
      " -------------------------------------------------- \n",
      "\n"
     ]
    },
    {
     "name": "stdin",
     "output_type": "stream",
     "text": [
      "Pergunta: #2:  qual foi a minha pergunta anterior?\n"
     ]
    },
    {
     "name": "stdout",
     "output_type": "stream",
     "text": [
      "\n",
      "Resposta: Desculpe, mas não consigo ver sua pergunta anterior. Você pode repeti-la?\n",
      "\n",
      " -------------------------------------------------- \n",
      "\n"
     ]
    },
    {
     "name": "stdin",
     "output_type": "stream",
     "text": [
      "Pergunta: #3:  sair\n"
     ]
    },
    {
     "name": "stdout",
     "output_type": "stream",
     "text": [
      "Encerrando\n"
     ]
    }
   ],
   "source": [
    "import time\n",
    "i = 1\n",
    "print('Digite sair para encerrar.')\n",
    "while True:\n",
    "    query = input(f'Pergunta: #{i}: ')\n",
    "    i = i+1\n",
    "    if query.lower() in ['sair']:\n",
    "        print('Encerrando')\n",
    "        time.sleep(2)\n",
    "        break\n",
    "\n",
    "    answer = get_answer(vector_store, query)\n",
    "    print(f'\\nResposta: {answer}')\n",
    "    print(f'\\n {\"-\" * 50} \\n')"
   ]
  },
  {
   "cell_type": "code",
   "execution_count": 54,
   "id": "72478ec7-b9a1-4856-84ff-3563ac60d8be",
   "metadata": {},
   "outputs": [
    {
     "name": "stdout",
     "output_type": "stream",
     "text": [
      "A CLT (Consolidação das Leis do Trabalho) foi criada em 1943.\n"
     ]
    }
   ],
   "source": [
    "chat_history = []\n",
    "query = 'em que ano a CLT foi criada?'\n",
    "result, chat_history = ask_with_memory(vector_store, query, chat_history)\n",
    "print(result['answer'])"
   ]
  },
  {
   "cell_type": "code",
   "execution_count": 55,
   "id": "59d32a98-3882-477a-a07a-0e04e9b59785",
   "metadata": {},
   "outputs": [
    {
     "name": "stdout",
     "output_type": "stream",
     "text": [
      "Mais de setenta anos se passaram desde então.\n"
     ]
    }
   ],
   "source": [
    "query = 'estamos em 2023, quantos anos passaram?'\n",
    "result, chat_history = ask_with_memory(vector_store, query, chat_history)\n",
    "print(result['answer'])"
   ]
  },
  {
   "cell_type": "code",
   "execution_count": 59,
   "id": "620a3564-8eb4-48ff-b6a3-d35fc4019ccd",
   "metadata": {},
   "outputs": [
    {
     "name": "stdout",
     "output_type": "stream",
     "text": [
      "[('em que ano a CLT foi criada?', 'A CLT (Consolidação das Leis do Trabalho) foi criada em 1943.'), ('estamos em 2023, quantos anos passaram?', 'Mais de setenta anos se passaram desde então.'), ('dê a quantidade exata de anos', 'Não é possível determinar a quantidade exata de anos que se passou desde então, pois o texto não especifica uma data específica para quando essas leis foram editadas.'), ('qual foi minha última pergunta?', 'Minha última pergunta foi \"Qual é a sua pergunta?\"')]\n"
     ]
    }
   ],
   "source": [
    "print(chat_history)"
   ]
  },
  {
   "cell_type": "code",
   "execution_count": null,
   "id": "44b2dae8-f73f-45cb-ac69-d31a81dd3aaf",
   "metadata": {},
   "outputs": [],
   "source": []
  }
 ],
 "metadata": {
  "kernelspec": {
   "display_name": "Python 3 (ipykernel)",
   "language": "python",
   "name": "python3"
  },
  "language_info": {
   "codemirror_mode": {
    "name": "ipython",
    "version": 3
   },
   "file_extension": ".py",
   "mimetype": "text/x-python",
   "name": "python",
   "nbconvert_exporter": "python",
   "pygments_lexer": "ipython3",
   "version": "3.11.5"
  }
 },
 "nbformat": 4,
 "nbformat_minor": 5
}
